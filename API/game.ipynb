{
 "cells": [
  {
   "cell_type": "code",
   "execution_count": 49,
   "id": "bc2ba176",
   "metadata": {},
   "outputs": [],
   "source": []
  },
  {
   "cell_type": "code",
   "execution_count": 27,
   "id": "73ec15d5",
   "metadata": {},
   "outputs": [
    {
     "data": {
      "text/plain": [
       "[[<pieces.Squirrel at 0x24f10304340>,\n",
       "  <pieces.Squirrel at 0x24f103043d0>,\n",
       "  <pieces.Squirrel at 0x24f10304be0>,\n",
       "  <pieces.Lion at 0x24f10304ee0>,\n",
       "  <pieces.Squirrel at 0x24f10304f40>,\n",
       "  <pieces.Squirrel at 0x24f103044f0>],\n",
       " [<pieces.Squirrel at 0x24f10304b80>,\n",
       "  <pieces.Squirrel at 0x24f10304e80>,\n",
       "  <pieces.Squirrel at 0x24f10304880>,\n",
       "  <pieces.Squirrel at 0x24f103048b0>,\n",
       "  <pieces.Squirrel at 0x24f10304550>,\n",
       "  <pieces.Squirrel at 0x24f10304490>],\n",
       " [None, None, None, None, None, None],\n",
       " [None, None, None, None, None, None],\n",
       " <list_reverseiterator at 0x24f10304fd0>,\n",
       " <list_reverseiterator at 0x24f10304a60>]"
      ]
     },
     "execution_count": 27,
     "metadata": {},
     "output_type": "execute_result"
    }
   ],
   "source": [
    "b.b"
   ]
  },
  {
   "cell_type": "code",
   "execution_count": 53,
   "id": "4567b784",
   "metadata": {
    "scrolled": true
   },
   "outputs": [
    {
     "name": "stdout",
     "output_type": "stream",
     "text": [
      "|Squi: W|Squi: W|Squi: W|Lion: W|Squi: W|Squi: W|\n",
      "|Squi: W|Squi: W|Squi: W|Squi: W|Squi: W|Squi: W|\n",
      "|None|None|None|None|None|None|\n",
      "|None|None|None|None|None|None|\n",
      "|Squi: B|Squi: B|Squi: B|Squi: B|Squi: B|Squi: B|\n",
      "|Squi: B|Squi: B|Lion: B|Squi: B|Squi: B|Squi: B|\n",
      "\n"
     ]
    }
   ],
   "source": [
    "b = Board()\n",
    "\n",
    "S = pieces.Squirrel\n",
    "L = pieces.Lion\n",
    "edge_row = [S(), S(), S(), L(), S(), S()]\n",
    "second_row = [S(), S(), S(), S(), S(), S()]\n",
    "b.make_white_side(edge_row,second_row)\n",
    "\n",
    "edge_row2 = [S(), S(), S(), L(), S(), S()]\n",
    "second_row2 = [S(), S(), S(), S(), S(), S()]\n",
    "b.make_black_side(edge_row2, second_row2)\n",
    "\n",
    "print(b)"
   ]
  },
  {
   "cell_type": "code",
   "execution_count": 56,
   "id": "d01f8b18",
   "metadata": {},
   "outputs": [
    {
     "name": "stdout",
     "output_type": "stream",
     "text": [
      "|Squi: B|Squi: B|Squi: B|Lion: B|Squi: B|Squi: B|\n",
      "|Squi: B|Squi: B|Squi: B|Squi: B|Squi: B|Squi: B|\n",
      "|None|None|None|None|None|None|\n",
      "|None|None|None|None|None|None|\n",
      "|Squi: B|Squi: B|Squi: B|Squi: B|Squi: B|Squi: B|\n",
      "|Squi: B|Squi: B|Lion: B|Squi: B|Squi: B|Squi: B|\n",
      "\n"
     ]
    }
   ],
   "source": [
    "import pieces\n",
    "from board import Board\n",
    "b = Board()\n",
    "b.make_default_board()\n",
    "print(b)"
   ]
  }
 ],
 "metadata": {
  "kernelspec": {
   "display_name": "Python 3 (ipykernel)",
   "language": "python",
   "name": "python3"
  },
  "language_info": {
   "codemirror_mode": {
    "name": "ipython",
    "version": 3
   },
   "file_extension": ".py",
   "mimetype": "text/x-python",
   "name": "python",
   "nbconvert_exporter": "python",
   "pygments_lexer": "ipython3",
   "version": "3.9.1"
  }
 },
 "nbformat": 4,
 "nbformat_minor": 5
}
