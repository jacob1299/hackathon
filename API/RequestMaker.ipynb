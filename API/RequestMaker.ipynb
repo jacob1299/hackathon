{
 "cells": [
  {
   "cell_type": "code",
   "execution_count": 20,
   "id": "a34d8360",
   "metadata": {},
   "outputs": [],
   "source": [
    "import requests\n",
    "URL = \"http://172.19.49.145:5000\""
   ]
  },
  {
   "cell_type": "code",
   "execution_count": 23,
   "id": "b980f21d",
   "metadata": {},
   "outputs": [
    {
     "data": {
      "text/plain": [
       "{'BLUE_LAKE': 'Running, white'}"
      ]
     },
     "execution_count": 23,
     "metadata": {},
     "output_type": "execute_result"
    }
   ],
   "source": [
    "r = requests.post(URL + '/make_game')\n",
    "GAME = r.json()['id']\n",
    "r = requests.get(URL + '/games_status')\n",
    "r.json()"
   ]
  },
  {
   "cell_type": "code",
   "execution_count": 19,
   "id": "53c4ae94",
   "metadata": {},
   "outputs": [
    {
     "data": {
      "text/plain": [
       "{'ready': 'True'}"
      ]
     },
     "execution_count": 19,
     "metadata": {},
     "output_type": "execute_result"
    }
   ],
   "source": [
    "payload = {\"id\": GAME, \"player\":\"white\"}\n",
    "r = requests.get(URL + '/setup_state', params=payload)\n",
    "r.json()"
   ]
  },
  {
   "cell_type": "code",
   "execution_count": 22,
   "id": "a65e24b8",
   "metadata": {},
   "outputs": [],
   "source": [
    "mock_pieces = {\"id\": GAME, \"player\":\"white\", \n",
    "               \"a1\": \"\", \"b1\": \"\", \"c1\": \"\", \"c1\": \"\", \"d1\": \"\", \"e1\": \"\", \"f1\": \"\",\n",
    "               \"a2\": \"\", \"b2\": \"\", \"c2\": \"\", \"c2\": \"\", \"d2\": \"\", \"e2\": \"\", \"f2\": \"\"}\n",
    "\n",
    "r = requests.post(URL + '/set_pieces', data=mock_pieces)\n",
    "r.json()"
   ]
  },
  {
   "cell_type": "code",
   "execution_count": 24,
   "id": "03818044",
   "metadata": {},
   "outputs": [
    {
     "data": {
      "text/plain": [
       "{'a1': '',\n",
       " 'a2': 'white-ant',\n",
       " 'a3': '',\n",
       " 'a4': '',\n",
       " 'a5': 'black-ant',\n",
       " 'a6': '',\n",
       " 'b1': '',\n",
       " 'b2': 'white-ant',\n",
       " 'b3': '',\n",
       " 'b4': '',\n",
       " 'b5': 'black-ant',\n",
       " 'b6': '',\n",
       " 'c1': '',\n",
       " 'c2': 'white-ant',\n",
       " 'c3': '',\n",
       " 'c4': '',\n",
       " 'c5': 'black-ant',\n",
       " 'c6': '',\n",
       " 'd1': '',\n",
       " 'd2': 'white-ant',\n",
       " 'd3': '',\n",
       " 'd4': '',\n",
       " 'd5': 'black-ant',\n",
       " 'd6': '',\n",
       " 'e1': '',\n",
       " 'e2': 'white-ant',\n",
       " 'e3': '',\n",
       " 'e4': '',\n",
       " 'e5': 'black-ant',\n",
       " 'e6': '',\n",
       " 'f1': '',\n",
       " 'f2': '',\n",
       " 'f3': 'white-ant',\n",
       " 'f4': '',\n",
       " 'f5': 'black-ant',\n",
       " 'f6': ''}"
      ]
     },
     "execution_count": 24,
     "metadata": {},
     "output_type": "execute_result"
    }
   ],
   "source": [
    "payload = {\"id\": GAME, \"from\" : \"f2\", \"to\" : \"f3\"}\n",
    "r = requests.post(URL + '/move', data=payload)\n",
    "r.json()"
   ]
  },
  {
   "cell_type": "code",
   "execution_count": 59,
   "id": "e08bdf4a",
   "metadata": {},
   "outputs": [],
   "source": [
    "mock_pieces = {\"id\": GAME, \"player\":\"white\", \n",
    "               \"a1\": \"\", \"b1\": \"\", \"c1\": \"\", \"c1\": \"\", \"d1\": \"\", \"e1\": \"\", \"f1\": \"\",\n",
    "               \"a2\": \"\", \"b2\": \"\", \"c2\": \"\", \"c2\": \"\", \"d2\": \"\", \"e2\": \"\", \"f2\": \"\"}"
   ]
  },
  {
   "cell_type": "code",
   "execution_count": 62,
   "id": "58c5beeb",
   "metadata": {},
   "outputs": [
    {
     "data": {
      "text/plain": [
       "14"
      ]
     },
     "execution_count": 62,
     "metadata": {},
     "output_type": "execute_result"
    }
   ],
   "source": [
    "len(mock_pieces)"
   ]
  }
 ],
 "metadata": {
  "kernelspec": {
   "display_name": "Python 3 (ipykernel)",
   "language": "python",
   "name": "python3"
  },
  "language_info": {
   "codemirror_mode": {
    "name": "ipython",
    "version": 3
   },
   "file_extension": ".py",
   "mimetype": "text/x-python",
   "name": "python",
   "nbconvert_exporter": "python",
   "pygments_lexer": "ipython3",
   "version": "3.9.1"
  }
 },
 "nbformat": 4,
 "nbformat_minor": 5
}
